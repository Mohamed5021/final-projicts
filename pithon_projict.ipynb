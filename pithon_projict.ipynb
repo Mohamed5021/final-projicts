{
 "cells": [
  {
   "cell_type": "code",
   "execution_count": 6,
   "id": "ec04616b-0bde-4435-8525-5cdd385b406e",
   "metadata": {},
   "outputs": [],
   "source": [
    "import numpy as np\n",
    "import pandas as pd"
   ]
  },
  {
   "cell_type": "markdown",
   "id": "4228538f-cb94-48b6-a57e-59b029f54d5c",
   "metadata": {},
   "source": [
    "# 1 read data set"
   ]
  },
  {
   "cell_type": "code",
   "execution_count": 7,
   "id": "c3dc9e37-8681-4b78-aeb5-ac09eebdb98a",
   "metadata": {
    "tags": []
   },
   "outputs": [],
   "source": [
    "data=pd.read_csv('star_wars_character_dataset.csv')\n",
    "\n"
   ]
  },
  {
   "cell_type": "markdown",
   "id": "36ad9ebe-ca7e-4ff7-a70e-80fff5d112ad",
   "metadata": {},
   "source": [
    "# 2 check the heads of the data"
   ]
  },
  {
   "cell_type": "code",
   "execution_count": 9,
   "id": "7f2d91aa-3666-4bd7-8f60-dd16917bbb58",
   "metadata": {
    "tags": []
   },
   "outputs": [
    {
     "data": {
      "text/html": [
       "<div>\n",
       "<style scoped>\n",
       "    .dataframe tbody tr th:only-of-type {\n",
       "        vertical-align: middle;\n",
       "    }\n",
       "\n",
       "    .dataframe tbody tr th {\n",
       "        vertical-align: top;\n",
       "    }\n",
       "\n",
       "    .dataframe thead th {\n",
       "        text-align: right;\n",
       "    }\n",
       "</style>\n",
       "<table border=\"1\" class=\"dataframe\">\n",
       "  <thead>\n",
       "    <tr style=\"text-align: right;\">\n",
       "      <th></th>\n",
       "      <th>name</th>\n",
       "      <th>height</th>\n",
       "      <th>mass</th>\n",
       "      <th>hair_color</th>\n",
       "      <th>skin_color</th>\n",
       "      <th>eye_color</th>\n",
       "      <th>birth_year</th>\n",
       "      <th>sex</th>\n",
       "      <th>gender</th>\n",
       "      <th>homeworld</th>\n",
       "      <th>species</th>\n",
       "      <th>films</th>\n",
       "      <th>Unnamed: 12</th>\n",
       "      <th>Unnamed: 13</th>\n",
       "    </tr>\n",
       "  </thead>\n",
       "  <tbody>\n",
       "    <tr>\n",
       "      <th>0</th>\n",
       "      <td>Luke Skywalker</td>\n",
       "      <td>172.0</td>\n",
       "      <td>77.0</td>\n",
       "      <td>blond</td>\n",
       "      <td>fair</td>\n",
       "      <td>blue</td>\n",
       "      <td>19.0</td>\n",
       "      <td>male</td>\n",
       "      <td>masculine</td>\n",
       "      <td>Tatooine</td>\n",
       "      <td>Human</td>\n",
       "      <td>The Empire Strikes Back, Revenge of the Sith, ...</td>\n",
       "      <td>NaN</td>\n",
       "      <td>NaN</td>\n",
       "    </tr>\n",
       "    <tr>\n",
       "      <th>1</th>\n",
       "      <td>C-3PO</td>\n",
       "      <td>167.0</td>\n",
       "      <td>75.0</td>\n",
       "      <td>NaN</td>\n",
       "      <td>gold</td>\n",
       "      <td>yellow</td>\n",
       "      <td>112.0</td>\n",
       "      <td>none</td>\n",
       "      <td>masculine</td>\n",
       "      <td>Tatooine</td>\n",
       "      <td>Droid</td>\n",
       "      <td>The Empire Strikes Back, Attack of the Clones,...</td>\n",
       "      <td>NaN</td>\n",
       "      <td>NaN</td>\n",
       "    </tr>\n",
       "    <tr>\n",
       "      <th>2</th>\n",
       "      <td>R2-D2</td>\n",
       "      <td>96.0</td>\n",
       "      <td>32.0</td>\n",
       "      <td>NaN</td>\n",
       "      <td>white, blue</td>\n",
       "      <td>red</td>\n",
       "      <td>33.0</td>\n",
       "      <td>none</td>\n",
       "      <td>masculine</td>\n",
       "      <td>Naboo</td>\n",
       "      <td>Droid</td>\n",
       "      <td>The Empire Strikes Back, Attack of the Clones,...</td>\n",
       "      <td>NaN</td>\n",
       "      <td>NaN</td>\n",
       "    </tr>\n",
       "    <tr>\n",
       "      <th>3</th>\n",
       "      <td>Darth Vader</td>\n",
       "      <td>202.0</td>\n",
       "      <td>136.0</td>\n",
       "      <td>none</td>\n",
       "      <td>white</td>\n",
       "      <td>yellow</td>\n",
       "      <td>41.9</td>\n",
       "      <td>male</td>\n",
       "      <td>masculine</td>\n",
       "      <td>Tatooine</td>\n",
       "      <td>Human</td>\n",
       "      <td>The Empire Strikes Back, Revenge of the Sith, ...</td>\n",
       "      <td>NaN</td>\n",
       "      <td>NaN</td>\n",
       "    </tr>\n",
       "    <tr>\n",
       "      <th>4</th>\n",
       "      <td>Leia Organa</td>\n",
       "      <td>150.0</td>\n",
       "      <td>49.0</td>\n",
       "      <td>brown</td>\n",
       "      <td>light</td>\n",
       "      <td>brown</td>\n",
       "      <td>19.0</td>\n",
       "      <td>female</td>\n",
       "      <td>feminine</td>\n",
       "      <td>Alderaan</td>\n",
       "      <td>Human</td>\n",
       "      <td>The Empire Strikes Back, Revenge of the Sith, ...</td>\n",
       "      <td>NaN</td>\n",
       "      <td>NaN</td>\n",
       "    </tr>\n",
       "    <tr>\n",
       "      <th>5</th>\n",
       "      <td>Owen Lars</td>\n",
       "      <td>178.0</td>\n",
       "      <td>120.0</td>\n",
       "      <td>brown, grey</td>\n",
       "      <td>light</td>\n",
       "      <td>blue</td>\n",
       "      <td>52.0</td>\n",
       "      <td>male</td>\n",
       "      <td>masculine</td>\n",
       "      <td>Tatooine</td>\n",
       "      <td>Human</td>\n",
       "      <td>Attack of the Clones, Revenge of the Sith, A N...</td>\n",
       "      <td>NaN</td>\n",
       "      <td>NaN</td>\n",
       "    </tr>\n",
       "    <tr>\n",
       "      <th>6</th>\n",
       "      <td>Beru Whitesun lars</td>\n",
       "      <td>165.0</td>\n",
       "      <td>75.0</td>\n",
       "      <td>brown</td>\n",
       "      <td>light</td>\n",
       "      <td>blue</td>\n",
       "      <td>47.0</td>\n",
       "      <td>female</td>\n",
       "      <td>feminine</td>\n",
       "      <td>Tatooine</td>\n",
       "      <td>Human</td>\n",
       "      <td>Attack of the Clones, Revenge of the Sith, A N...</td>\n",
       "      <td>NaN</td>\n",
       "      <td>NaN</td>\n",
       "    </tr>\n",
       "    <tr>\n",
       "      <th>7</th>\n",
       "      <td>R5-D4</td>\n",
       "      <td>97.0</td>\n",
       "      <td>32.0</td>\n",
       "      <td>NaN</td>\n",
       "      <td>white, red</td>\n",
       "      <td>red</td>\n",
       "      <td>NaN</td>\n",
       "      <td>none</td>\n",
       "      <td>masculine</td>\n",
       "      <td>Tatooine</td>\n",
       "      <td>Droid</td>\n",
       "      <td>A New Hope</td>\n",
       "      <td>NaN</td>\n",
       "      <td>NaN</td>\n",
       "    </tr>\n",
       "    <tr>\n",
       "      <th>8</th>\n",
       "      <td>Biggs Darklighter</td>\n",
       "      <td>183.0</td>\n",
       "      <td>84.0</td>\n",
       "      <td>black</td>\n",
       "      <td>light</td>\n",
       "      <td>brown</td>\n",
       "      <td>24.0</td>\n",
       "      <td>male</td>\n",
       "      <td>masculine</td>\n",
       "      <td>Tatooine</td>\n",
       "      <td>Human</td>\n",
       "      <td>A New Hope</td>\n",
       "      <td>NaN</td>\n",
       "      <td>NaN</td>\n",
       "    </tr>\n",
       "    <tr>\n",
       "      <th>9</th>\n",
       "      <td>Obi-Wan Kenobi</td>\n",
       "      <td>182.0</td>\n",
       "      <td>77.0</td>\n",
       "      <td>auburn, white</td>\n",
       "      <td>fair</td>\n",
       "      <td>blue-gray</td>\n",
       "      <td>57.0</td>\n",
       "      <td>male</td>\n",
       "      <td>masculine</td>\n",
       "      <td>Stewjon</td>\n",
       "      <td>Human</td>\n",
       "      <td>The Empire Strikes Back, Attack of the Clones,...</td>\n",
       "      <td>NaN</td>\n",
       "      <td>NaN</td>\n",
       "    </tr>\n",
       "    <tr>\n",
       "      <th>10</th>\n",
       "      <td>Anakin Skywalker</td>\n",
       "      <td>188.0</td>\n",
       "      <td>84.0</td>\n",
       "      <td>blond</td>\n",
       "      <td>fair</td>\n",
       "      <td>blue</td>\n",
       "      <td>41.9</td>\n",
       "      <td>male</td>\n",
       "      <td>masculine</td>\n",
       "      <td>Tatooine</td>\n",
       "      <td>Human</td>\n",
       "      <td>Attack of the Clones, The Phantom Menace, Reve...</td>\n",
       "      <td>NaN</td>\n",
       "      <td>NaN</td>\n",
       "    </tr>\n",
       "    <tr>\n",
       "      <th>11</th>\n",
       "      <td>Wilhuff Tarkin</td>\n",
       "      <td>180.0</td>\n",
       "      <td>NaN</td>\n",
       "      <td>auburn, grey</td>\n",
       "      <td>fair</td>\n",
       "      <td>blue</td>\n",
       "      <td>64.0</td>\n",
       "      <td>male</td>\n",
       "      <td>masculine</td>\n",
       "      <td>Eriadu</td>\n",
       "      <td>Human</td>\n",
       "      <td>Revenge of the Sith, A New Hope</td>\n",
       "      <td>NaN</td>\n",
       "      <td>NaN</td>\n",
       "    </tr>\n",
       "    <tr>\n",
       "      <th>12</th>\n",
       "      <td>Chewbacca</td>\n",
       "      <td>228.0</td>\n",
       "      <td>112.0</td>\n",
       "      <td>brown</td>\n",
       "      <td>unknown</td>\n",
       "      <td>blue</td>\n",
       "      <td>200.0</td>\n",
       "      <td>male</td>\n",
       "      <td>masculine</td>\n",
       "      <td>Kashyyyk</td>\n",
       "      <td>Wookiee</td>\n",
       "      <td>The Empire Strikes Back, Revenge of the Sith, ...</td>\n",
       "      <td>NaN</td>\n",
       "      <td>NaN</td>\n",
       "    </tr>\n",
       "    <tr>\n",
       "      <th>13</th>\n",
       "      <td>Han Solo</td>\n",
       "      <td>180.0</td>\n",
       "      <td>80.0</td>\n",
       "      <td>brown</td>\n",
       "      <td>fair</td>\n",
       "      <td>brown</td>\n",
       "      <td>29.0</td>\n",
       "      <td>male</td>\n",
       "      <td>masculine</td>\n",
       "      <td>Corellia</td>\n",
       "      <td>Human</td>\n",
       "      <td>The Empire Strikes Back, Return of the Jedi, A...</td>\n",
       "      <td>NaN</td>\n",
       "      <td>NaN</td>\n",
       "    </tr>\n",
       "    <tr>\n",
       "      <th>14</th>\n",
       "      <td>Greedo</td>\n",
       "      <td>173.0</td>\n",
       "      <td>74.0</td>\n",
       "      <td>NaN</td>\n",
       "      <td>green</td>\n",
       "      <td>black</td>\n",
       "      <td>44.0</td>\n",
       "      <td>male</td>\n",
       "      <td>masculine</td>\n",
       "      <td>Rodia</td>\n",
       "      <td>Rodian</td>\n",
       "      <td>A New Hope</td>\n",
       "      <td>NaN</td>\n",
       "      <td>NaN</td>\n",
       "    </tr>\n",
       "    <tr>\n",
       "      <th>15</th>\n",
       "      <td>Jabba Desilijic Tiure</td>\n",
       "      <td>175.0</td>\n",
       "      <td>1358.0</td>\n",
       "      <td>NaN</td>\n",
       "      <td>green-tan, brown</td>\n",
       "      <td>orange</td>\n",
       "      <td>600.0</td>\n",
       "      <td>hermaphroditic</td>\n",
       "      <td>masculine</td>\n",
       "      <td>Nal Hutta</td>\n",
       "      <td>Hutt</td>\n",
       "      <td>The Phantom Menace, Return of the Jedi, A New ...</td>\n",
       "      <td>NaN</td>\n",
       "      <td>NaN</td>\n",
       "    </tr>\n",
       "    <tr>\n",
       "      <th>16</th>\n",
       "      <td>Wedge Antilles</td>\n",
       "      <td>170.0</td>\n",
       "      <td>77.0</td>\n",
       "      <td>brown</td>\n",
       "      <td>fair</td>\n",
       "      <td>hazel</td>\n",
       "      <td>21.0</td>\n",
       "      <td>male</td>\n",
       "      <td>masculine</td>\n",
       "      <td>Corellia</td>\n",
       "      <td>Human</td>\n",
       "      <td>The Empire Strikes Back, Return of the Jedi, A...</td>\n",
       "      <td>NaN</td>\n",
       "      <td>NaN</td>\n",
       "    </tr>\n",
       "    <tr>\n",
       "      <th>17</th>\n",
       "      <td>Jek Tono Porkins</td>\n",
       "      <td>180.0</td>\n",
       "      <td>110.0</td>\n",
       "      <td>brown</td>\n",
       "      <td>fair</td>\n",
       "      <td>blue</td>\n",
       "      <td>NaN</td>\n",
       "      <td>male</td>\n",
       "      <td>masculine</td>\n",
       "      <td>Bestine IV</td>\n",
       "      <td>Human</td>\n",
       "      <td>A New Hope</td>\n",
       "      <td>NaN</td>\n",
       "      <td>NaN</td>\n",
       "    </tr>\n",
       "    <tr>\n",
       "      <th>18</th>\n",
       "      <td>Yoda</td>\n",
       "      <td>66.0</td>\n",
       "      <td>17.0</td>\n",
       "      <td>white</td>\n",
       "      <td>green</td>\n",
       "      <td>brown</td>\n",
       "      <td>896.0</td>\n",
       "      <td>male</td>\n",
       "      <td>masculine</td>\n",
       "      <td>NaN</td>\n",
       "      <td>Yoda's species</td>\n",
       "      <td>The Empire Strikes Back, Attack of the Clones,...</td>\n",
       "      <td>NaN</td>\n",
       "      <td>NaN</td>\n",
       "    </tr>\n",
       "    <tr>\n",
       "      <th>19</th>\n",
       "      <td>Palpatine</td>\n",
       "      <td>170.0</td>\n",
       "      <td>75.0</td>\n",
       "      <td>grey</td>\n",
       "      <td>pale</td>\n",
       "      <td>yellow</td>\n",
       "      <td>82.0</td>\n",
       "      <td>male</td>\n",
       "      <td>masculine</td>\n",
       "      <td>Naboo</td>\n",
       "      <td>Human</td>\n",
       "      <td>The Empire Strikes Back, Attack of the Clones,...</td>\n",
       "      <td>NaN</td>\n",
       "      <td>NaN</td>\n",
       "    </tr>\n",
       "  </tbody>\n",
       "</table>\n",
       "</div>"
      ],
      "text/plain": [
       "                     name  height    mass     hair_color        skin_color  \\\n",
       "0          Luke Skywalker   172.0    77.0          blond              fair   \n",
       "1                   C-3PO   167.0    75.0            NaN              gold   \n",
       "2                   R2-D2    96.0    32.0            NaN       white, blue   \n",
       "3             Darth Vader   202.0   136.0           none             white   \n",
       "4             Leia Organa   150.0    49.0          brown             light   \n",
       "5               Owen Lars   178.0   120.0    brown, grey             light   \n",
       "6      Beru Whitesun lars   165.0    75.0          brown             light   \n",
       "7                   R5-D4    97.0    32.0            NaN        white, red   \n",
       "8       Biggs Darklighter   183.0    84.0          black             light   \n",
       "9          Obi-Wan Kenobi   182.0    77.0  auburn, white              fair   \n",
       "10       Anakin Skywalker   188.0    84.0          blond              fair   \n",
       "11         Wilhuff Tarkin   180.0     NaN   auburn, grey              fair   \n",
       "12              Chewbacca   228.0   112.0          brown           unknown   \n",
       "13               Han Solo   180.0    80.0          brown              fair   \n",
       "14                 Greedo   173.0    74.0            NaN             green   \n",
       "15  Jabba Desilijic Tiure   175.0  1358.0            NaN  green-tan, brown   \n",
       "16         Wedge Antilles   170.0    77.0          brown              fair   \n",
       "17       Jek Tono Porkins   180.0   110.0          brown              fair   \n",
       "18                   Yoda    66.0    17.0          white             green   \n",
       "19              Palpatine   170.0    75.0           grey              pale   \n",
       "\n",
       "    eye_color  birth_year             sex     gender   homeworld  \\\n",
       "0        blue        19.0            male  masculine    Tatooine   \n",
       "1      yellow       112.0            none  masculine    Tatooine   \n",
       "2         red        33.0            none  masculine       Naboo   \n",
       "3      yellow        41.9            male  masculine    Tatooine   \n",
       "4       brown        19.0          female   feminine    Alderaan   \n",
       "5        blue        52.0            male  masculine    Tatooine   \n",
       "6        blue        47.0          female   feminine    Tatooine   \n",
       "7         red         NaN            none  masculine    Tatooine   \n",
       "8       brown        24.0            male  masculine    Tatooine   \n",
       "9   blue-gray        57.0            male  masculine     Stewjon   \n",
       "10       blue        41.9            male  masculine    Tatooine   \n",
       "11       blue        64.0            male  masculine      Eriadu   \n",
       "12       blue       200.0            male  masculine    Kashyyyk   \n",
       "13      brown        29.0            male  masculine    Corellia   \n",
       "14      black        44.0            male  masculine       Rodia   \n",
       "15     orange       600.0  hermaphroditic  masculine   Nal Hutta   \n",
       "16      hazel        21.0            male  masculine    Corellia   \n",
       "17       blue         NaN            male  masculine  Bestine IV   \n",
       "18      brown       896.0            male  masculine         NaN   \n",
       "19     yellow        82.0            male  masculine       Naboo   \n",
       "\n",
       "           species                                              films  \\\n",
       "0            Human  The Empire Strikes Back, Revenge of the Sith, ...   \n",
       "1            Droid  The Empire Strikes Back, Attack of the Clones,...   \n",
       "2            Droid  The Empire Strikes Back, Attack of the Clones,...   \n",
       "3            Human  The Empire Strikes Back, Revenge of the Sith, ...   \n",
       "4            Human  The Empire Strikes Back, Revenge of the Sith, ...   \n",
       "5            Human  Attack of the Clones, Revenge of the Sith, A N...   \n",
       "6            Human  Attack of the Clones, Revenge of the Sith, A N...   \n",
       "7            Droid                                         A New Hope   \n",
       "8            Human                                         A New Hope   \n",
       "9            Human  The Empire Strikes Back, Attack of the Clones,...   \n",
       "10           Human  Attack of the Clones, The Phantom Menace, Reve...   \n",
       "11           Human                    Revenge of the Sith, A New Hope   \n",
       "12         Wookiee  The Empire Strikes Back, Revenge of the Sith, ...   \n",
       "13           Human  The Empire Strikes Back, Return of the Jedi, A...   \n",
       "14          Rodian                                         A New Hope   \n",
       "15            Hutt  The Phantom Menace, Return of the Jedi, A New ...   \n",
       "16           Human  The Empire Strikes Back, Return of the Jedi, A...   \n",
       "17           Human                                         A New Hope   \n",
       "18  Yoda's species  The Empire Strikes Back, Attack of the Clones,...   \n",
       "19           Human  The Empire Strikes Back, Attack of the Clones,...   \n",
       "\n",
       "    Unnamed: 12  Unnamed: 13  \n",
       "0           NaN          NaN  \n",
       "1           NaN          NaN  \n",
       "2           NaN          NaN  \n",
       "3           NaN          NaN  \n",
       "4           NaN          NaN  \n",
       "5           NaN          NaN  \n",
       "6           NaN          NaN  \n",
       "7           NaN          NaN  \n",
       "8           NaN          NaN  \n",
       "9           NaN          NaN  \n",
       "10          NaN          NaN  \n",
       "11          NaN          NaN  \n",
       "12          NaN          NaN  \n",
       "13          NaN          NaN  \n",
       "14          NaN          NaN  \n",
       "15          NaN          NaN  \n",
       "16          NaN          NaN  \n",
       "17          NaN          NaN  \n",
       "18          NaN          NaN  \n",
       "19          NaN          NaN  "
      ]
     },
     "execution_count": 9,
     "metadata": {},
     "output_type": "execute_result"
    }
   ],
   "source": [
    "data.head(20)"
   ]
  },
  {
   "cell_type": "markdown",
   "id": "944f9f0a-2ea8-4a06-bda9-5e3b5a8e862f",
   "metadata": {},
   "source": [
    " # 3 describe the data"
   ]
  },
  {
   "cell_type": "code",
   "execution_count": 5,
   "id": "ed5aeaff-e9cb-4aab-8e44-8b1c47f626df",
   "metadata": {},
   "outputs": [
    {
     "data": {
      "text/html": [
       "<div>\n",
       "<style scoped>\n",
       "    .dataframe tbody tr th:only-of-type {\n",
       "        vertical-align: middle;\n",
       "    }\n",
       "\n",
       "    .dataframe tbody tr th {\n",
       "        vertical-align: top;\n",
       "    }\n",
       "\n",
       "    .dataframe thead th {\n",
       "        text-align: right;\n",
       "    }\n",
       "</style>\n",
       "<table border=\"1\" class=\"dataframe\">\n",
       "  <thead>\n",
       "    <tr style=\"text-align: right;\">\n",
       "      <th></th>\n",
       "      <th>height</th>\n",
       "      <th>mass</th>\n",
       "      <th>birth_year</th>\n",
       "      <th>Unnamed: 12</th>\n",
       "      <th>Unnamed: 13</th>\n",
       "    </tr>\n",
       "  </thead>\n",
       "  <tbody>\n",
       "    <tr>\n",
       "      <th>count</th>\n",
       "      <td>80.000000</td>\n",
       "      <td>58.000000</td>\n",
       "      <td>42.000000</td>\n",
       "      <td>0.0</td>\n",
       "      <td>0.0</td>\n",
       "    </tr>\n",
       "    <tr>\n",
       "      <th>mean</th>\n",
       "      <td>174.475000</td>\n",
       "      <td>98.213793</td>\n",
       "      <td>88.554762</td>\n",
       "      <td>NaN</td>\n",
       "      <td>NaN</td>\n",
       "    </tr>\n",
       "    <tr>\n",
       "      <th>std</th>\n",
       "      <td>34.973761</td>\n",
       "      <td>170.794255</td>\n",
       "      <td>156.428722</td>\n",
       "      <td>NaN</td>\n",
       "      <td>NaN</td>\n",
       "    </tr>\n",
       "    <tr>\n",
       "      <th>min</th>\n",
       "      <td>66.000000</td>\n",
       "      <td>15.000000</td>\n",
       "      <td>8.000000</td>\n",
       "      <td>NaN</td>\n",
       "      <td>NaN</td>\n",
       "    </tr>\n",
       "    <tr>\n",
       "      <th>25%</th>\n",
       "      <td>167.000000</td>\n",
       "      <td>56.400000</td>\n",
       "      <td>34.000000</td>\n",
       "      <td>NaN</td>\n",
       "      <td>NaN</td>\n",
       "    </tr>\n",
       "    <tr>\n",
       "      <th>50%</th>\n",
       "      <td>180.000000</td>\n",
       "      <td>79.000000</td>\n",
       "      <td>52.000000</td>\n",
       "      <td>NaN</td>\n",
       "      <td>NaN</td>\n",
       "    </tr>\n",
       "    <tr>\n",
       "      <th>75%</th>\n",
       "      <td>191.000000</td>\n",
       "      <td>84.750000</td>\n",
       "      <td>72.000000</td>\n",
       "      <td>NaN</td>\n",
       "      <td>NaN</td>\n",
       "    </tr>\n",
       "    <tr>\n",
       "      <th>max</th>\n",
       "      <td>264.000000</td>\n",
       "      <td>1358.000000</td>\n",
       "      <td>896.000000</td>\n",
       "      <td>NaN</td>\n",
       "      <td>NaN</td>\n",
       "    </tr>\n",
       "  </tbody>\n",
       "</table>\n",
       "</div>"
      ],
      "text/plain": [
       "           height         mass  birth_year  Unnamed: 12  Unnamed: 13\n",
       "count   80.000000    58.000000   42.000000          0.0          0.0\n",
       "mean   174.475000    98.213793   88.554762          NaN          NaN\n",
       "std     34.973761   170.794255  156.428722          NaN          NaN\n",
       "min     66.000000    15.000000    8.000000          NaN          NaN\n",
       "25%    167.000000    56.400000   34.000000          NaN          NaN\n",
       "50%    180.000000    79.000000   52.000000          NaN          NaN\n",
       "75%    191.000000    84.750000   72.000000          NaN          NaN\n",
       "max    264.000000  1358.000000  896.000000          NaN          NaN"
      ]
     },
     "execution_count": 5,
     "metadata": {},
     "output_type": "execute_result"
    }
   ],
   "source": [
    "data.describe()"
   ]
  },
  {
   "cell_type": "markdown",
   "id": "3337b094-487e-49ca-8ae7-3f52fef92794",
   "metadata": {
    "tags": []
   },
   "source": [
    "# 4 show info\n"
   ]
  },
  {
   "cell_type": "code",
   "execution_count": 10,
   "id": "0906290b-fd13-497d-b452-012960b0c311",
   "metadata": {},
   "outputs": [
    {
     "data": {
      "text/plain": [
       "<bound method DataFrame.info of                name  height   mass hair_color    skin_color      eye_color  \\\n",
       "0    Luke Skywalker   172.0   77.0      blond          fair           blue   \n",
       "1             C-3PO   167.0   75.0        NaN          gold         yellow   \n",
       "2             R2-D2    96.0   32.0        NaN   white, blue            red   \n",
       "3       Darth Vader   202.0  136.0       none         white         yellow   \n",
       "4       Leia Organa   150.0   49.0      brown         light          brown   \n",
       "..              ...     ...    ...        ...           ...            ...   \n",
       "76         Grievous   216.0  159.0       none  brown, white  green, yellow   \n",
       "77          Tarfful   234.0  136.0      brown         brown           blue   \n",
       "78  Raymus Antilles   188.0   79.0      brown         light          brown   \n",
       "79        Sly Moore   178.0   48.0       none          pale          white   \n",
       "80       Tion Medon   206.0   80.0       none          grey          black   \n",
       "\n",
       "    birth_year     sex     gender homeworld  species  \\\n",
       "0         19.0    male  masculine  Tatooine    Human   \n",
       "1        112.0    none  masculine  Tatooine    Droid   \n",
       "2         33.0    none  masculine     Naboo    Droid   \n",
       "3         41.9    male  masculine  Tatooine    Human   \n",
       "4         19.0  female   feminine  Alderaan    Human   \n",
       "..         ...     ...        ...       ...      ...   \n",
       "76         NaN    male  masculine     Kalee  Kaleesh   \n",
       "77         NaN    male  masculine  Kashyyyk  Wookiee   \n",
       "78         NaN    male  masculine  Alderaan    Human   \n",
       "79         NaN    male        NaN    Umbara      NaN   \n",
       "80         NaN    male  masculine    Utapau   Pau'an   \n",
       "\n",
       "                                                films  Unnamed: 12  \\\n",
       "0   The Empire Strikes Back, Revenge of the Sith, ...          NaN   \n",
       "1   The Empire Strikes Back, Attack of the Clones,...          NaN   \n",
       "2   The Empire Strikes Back, Attack of the Clones,...          NaN   \n",
       "3   The Empire Strikes Back, Revenge of the Sith, ...          NaN   \n",
       "4   The Empire Strikes Back, Revenge of the Sith, ...          NaN   \n",
       "..                                                ...          ...   \n",
       "76                                Revenge of the Sith          NaN   \n",
       "77                                Revenge of the Sith          NaN   \n",
       "78                    Revenge of the Sith, A New Hope          NaN   \n",
       "79          Attack of the Clones, Revenge of the Sith          NaN   \n",
       "80                                Revenge of the Sith          NaN   \n",
       "\n",
       "    Unnamed: 13  \n",
       "0           NaN  \n",
       "1           NaN  \n",
       "2           NaN  \n",
       "3           NaN  \n",
       "4           NaN  \n",
       "..          ...  \n",
       "76          NaN  \n",
       "77          NaN  \n",
       "78          NaN  \n",
       "79          NaN  \n",
       "80          NaN  \n",
       "\n",
       "[81 rows x 14 columns]>"
      ]
     },
     "execution_count": 10,
     "metadata": {},
     "output_type": "execute_result"
    }
   ],
   "source": [
    "data.info"
   ]
  },
  {
   "cell_type": "markdown",
   "id": "e556e141-eac2-4e62-8b59-64eaadec3dce",
   "metadata": {},
   "source": [
    "# 5. Types included in the data"
   ]
  },
  {
   "cell_type": "code",
   "execution_count": 13,
   "id": "86759db8-d69f-4ac0-899e-f61cabe2d363",
   "metadata": {},
   "outputs": [
    {
     "data": {
      "text/plain": [
       "name            object\n",
       "height         float64\n",
       "mass           float64\n",
       "hair_color      object\n",
       "skin_color      object\n",
       "eye_color       object\n",
       "birth_year     float64\n",
       "sex             object\n",
       "gender          object\n",
       "homeworld       object\n",
       "species         object\n",
       "films           object\n",
       "Unnamed: 12    float64\n",
       "Unnamed: 13    float64\n",
       "dtype: object"
      ]
     },
     "execution_count": 13,
     "metadata": {},
     "output_type": "execute_result"
    }
   ],
   "source": [
    "data.dtypes"
   ]
  },
  {
   "cell_type": "markdown",
   "id": "44b689a4-afe2-4fcf-8188-340b60a31dcd",
   "metadata": {},
   "source": [
    "# 6 count the null in hair column\n"
   ]
  },
  {
   "cell_type": "code",
   "execution_count": 17,
   "id": "d0956103-7379-4f6a-80a5-80f9281c7ccc",
   "metadata": {},
   "outputs": [
    {
     "data": {
      "text/plain": [
       "False    76\n",
       "True      5\n",
       "Name: hair_color, dtype: int64"
      ]
     },
     "execution_count": 17,
     "metadata": {},
     "output_type": "execute_result"
    }
   ],
   "source": [
    "data[\"hair_color\"].isnull().value_counts()"
   ]
  },
  {
   "cell_type": "markdown",
   "id": "5c44b005-6109-471d-9dcd-e6f57f52a37c",
   "metadata": {},
   "source": [
    "# 7 replace null values"
   ]
  },
  {
   "cell_type": "code",
   "execution_count": 20,
   "id": "d2d7d6a4-d1d8-4e07-8aa6-1a38d2f206f1",
   "metadata": {},
   "outputs": [
    {
     "data": {
      "text/plain": [
       "0             blond\n",
       "1             brown\n",
       "2             brown\n",
       "3              none\n",
       "4             brown\n",
       "5       brown, grey\n",
       "6             brown\n",
       "7             brown\n",
       "8             black\n",
       "9     auburn, white\n",
       "10            blond\n",
       "11     auburn, grey\n",
       "12            brown\n",
       "13            brown\n",
       "14            brown\n",
       "15            brown\n",
       "16            brown\n",
       "17            brown\n",
       "18            white\n",
       "19             grey\n",
       "Name: hair_color, dtype: object"
      ]
     },
     "execution_count": 20,
     "metadata": {},
     "output_type": "execute_result"
    }
   ],
   "source": [
    "data[\"hair_color\"].fillna(value=\"brown\").head(20)"
   ]
  },
  {
   "cell_type": "markdown",
   "id": "0bb9c10b-7710-4532-9cd4-979a6a1af442",
   "metadata": {},
   "source": [
    "# 8 what is the max height"
   ]
  },
  {
   "cell_type": "code",
   "execution_count": 23,
   "id": "6eca04ea-e20d-4710-93c6-0e5f8a297a6f",
   "metadata": {},
   "outputs": [
    {
     "data": {
      "text/plain": [
       "264.0"
      ]
     },
     "execution_count": 23,
     "metadata": {},
     "output_type": "execute_result"
    }
   ],
   "source": [
    "data['height'].max()"
   ]
  },
  {
   "cell_type": "markdown",
   "id": "f0d2bb8a-1bd9-4216-b6f1-8781277a5c4a",
   "metadata": {},
   "source": [
    "# 9 what is the min height"
   ]
  },
  {
   "cell_type": "code",
   "execution_count": 24,
   "id": "ba0dabe8-dfd4-4101-b869-0675118bcaa2",
   "metadata": {},
   "outputs": [
    {
     "data": {
      "text/plain": [
       "66.0"
      ]
     },
     "execution_count": 24,
     "metadata": {},
     "output_type": "execute_result"
    }
   ],
   "source": [
    "data['height'].min()"
   ]
  },
  {
   "cell_type": "markdown",
   "id": "65991d9c-1fe5-42e2-aef8-7fdf889078ef",
   "metadata": {},
   "source": [
    "# 10 the name of the heighest height"
   ]
  },
  {
   "cell_type": "code",
   "execution_count": 26,
   "id": "a48d61fb-3598-4cc5-9450-636b62225a84",
   "metadata": {},
   "outputs": [
    {
     "data": {
      "text/html": [
       "<div>\n",
       "<style scoped>\n",
       "    .dataframe tbody tr th:only-of-type {\n",
       "        vertical-align: middle;\n",
       "    }\n",
       "\n",
       "    .dataframe tbody tr th {\n",
       "        vertical-align: top;\n",
       "    }\n",
       "\n",
       "    .dataframe thead th {\n",
       "        text-align: right;\n",
       "    }\n",
       "</style>\n",
       "<table border=\"1\" class=\"dataframe\">\n",
       "  <thead>\n",
       "    <tr style=\"text-align: right;\">\n",
       "      <th></th>\n",
       "      <th>name</th>\n",
       "      <th>height</th>\n",
       "      <th>mass</th>\n",
       "      <th>hair_color</th>\n",
       "      <th>skin_color</th>\n",
       "      <th>eye_color</th>\n",
       "      <th>birth_year</th>\n",
       "      <th>sex</th>\n",
       "      <th>gender</th>\n",
       "      <th>homeworld</th>\n",
       "      <th>species</th>\n",
       "      <th>films</th>\n",
       "      <th>Unnamed: 12</th>\n",
       "      <th>Unnamed: 13</th>\n",
       "    </tr>\n",
       "  </thead>\n",
       "  <tbody>\n",
       "    <tr>\n",
       "      <th>53</th>\n",
       "      <td>Yarael Poof</td>\n",
       "      <td>264.0</td>\n",
       "      <td>NaN</td>\n",
       "      <td>none</td>\n",
       "      <td>white</td>\n",
       "      <td>yellow</td>\n",
       "      <td>NaN</td>\n",
       "      <td>male</td>\n",
       "      <td>masculine</td>\n",
       "      <td>Quermia</td>\n",
       "      <td>Quermian</td>\n",
       "      <td>The Phantom Menace</td>\n",
       "      <td>NaN</td>\n",
       "      <td>NaN</td>\n",
       "    </tr>\n",
       "  </tbody>\n",
       "</table>\n",
       "</div>"
      ],
      "text/plain": [
       "           name  height  mass hair_color skin_color eye_color  birth_year  \\\n",
       "53  Yarael Poof   264.0   NaN       none      white    yellow         NaN   \n",
       "\n",
       "     sex     gender homeworld   species               films  Unnamed: 12  \\\n",
       "53  male  masculine   Quermia  Quermian  The Phantom Menace          NaN   \n",
       "\n",
       "    Unnamed: 13  \n",
       "53          NaN  "
      ]
     },
     "execution_count": 26,
     "metadata": {},
     "output_type": "execute_result"
    }
   ],
   "source": [
    "data[data['height']== data['height'].max()] "
   ]
  },
  {
   "cell_type": "markdown",
   "id": "97180b20-396d-4261-ab65-016a8c0dd788",
   "metadata": {},
   "source": [
    "# 11 what is the most 3 hair color"
   ]
  },
  {
   "cell_type": "code",
   "execution_count": 32,
   "id": "c95cc863-c8d4-435e-8880-839a24796b86",
   "metadata": {},
   "outputs": [
    {
     "data": {
      "text/plain": [
       "none     36\n",
       "brown    15\n",
       "black    12\n",
       "Name: hair_color, dtype: int64"
      ]
     },
     "execution_count": 32,
     "metadata": {},
     "output_type": "execute_result"
    }
   ],
   "source": [
    "data['hair_color'].value_counts().head(3)"
   ]
  },
  {
   "cell_type": "markdown",
   "id": "12f67e4c-eb8a-4718-9261-6f3354d301a1",
   "metadata": {},
   "source": [
    "# 12 what is the most 3 eye color"
   ]
  },
  {
   "cell_type": "code",
   "execution_count": 31,
   "id": "b2744c4a-6b83-49af-8f8d-5081f68d9ec4",
   "metadata": {},
   "outputs": [
    {
     "data": {
      "text/plain": [
       "blue      19\n",
       "brown     19\n",
       "yellow    11\n",
       "Name: eye_color, dtype: int64"
      ]
     },
     "execution_count": 31,
     "metadata": {},
     "output_type": "execute_result"
    }
   ],
   "source": [
    "data['eye_color'].value_counts().head(3)"
   ]
  },
  {
   "cell_type": "markdown",
   "id": "470e5678-208b-4561-becc-96706f7d24af",
   "metadata": {},
   "source": [
    "# 13 what is the most 3 skin color"
   ]
  },
  {
   "cell_type": "code",
   "execution_count": 34,
   "id": "3f9c45fb-0667-445e-ae74-e178464434b1",
   "metadata": {},
   "outputs": [
    {
     "data": {
      "text/plain": [
       "fair     17\n",
       "light     8\n",
       "grey      6\n",
       "Name: skin_color, dtype: int64"
      ]
     },
     "execution_count": 34,
     "metadata": {},
     "output_type": "execute_result"
    }
   ],
   "source": [
    "data['skin_color'].value_counts().head(3)"
   ]
  },
  {
   "cell_type": "markdown",
   "id": "a56d68a0-dbb7-43f0-b1c1-9f481a03cbb7",
   "metadata": {},
   "source": [
    "# 14 what is the common sex"
   ]
  },
  {
   "cell_type": "code",
   "execution_count": 35,
   "id": "bc7da207-cf96-4d45-823b-e8c0b28f2428",
   "metadata": {},
   "outputs": [
    {
     "data": {
      "text/plain": [
       "male      61\n",
       "female    14\n",
       "none       5\n",
       "Name: sex, dtype: int64"
      ]
     },
     "execution_count": 35,
     "metadata": {},
     "output_type": "execute_result"
    }
   ],
   "source": [
    "data['sex'].value_counts().head(3)"
   ]
  },
  {
   "cell_type": "code",
   "execution_count": null,
   "id": "0ffc1284-d855-4bb6-b9a3-06d92c26a0cc",
   "metadata": {},
   "outputs": [],
   "source": []
  }
 ],
 "metadata": {
  "kernelspec": {
   "display_name": "Python 3 (ipykernel)",
   "language": "python",
   "name": "python3"
  },
  "language_info": {
   "codemirror_mode": {
    "name": "ipython",
    "version": 3
   },
   "file_extension": ".py",
   "mimetype": "text/x-python",
   "name": "python",
   "nbconvert_exporter": "python",
   "pygments_lexer": "ipython3",
   "version": "3.9.12"
  }
 },
 "nbformat": 4,
 "nbformat_minor": 5
}
